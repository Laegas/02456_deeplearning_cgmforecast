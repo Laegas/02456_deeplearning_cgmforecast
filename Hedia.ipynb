{
 "cells": [
  {
   "cell_type": "markdown",
   "metadata": {
    "id": "b958bfh2Dx5Y"
   },
   "source": [
    "Refer to the `Readme.MD` file for steps to run and additional notes. If you run the code via Google Colab, uncomment the first cell and properly fill in the path to the `02456_deeplearning_cgmforecast` directory in the `cd` command."
   ]
  },
  {
   "cell_type": "code",
   "execution_count": null,
   "metadata": {},
   "outputs": [],
   "source": [
    "# from google.colab import drive\n",
    "# drive.mount('/content/drive')\n",
    "# %cd '/content/drive/My Drive/<path where you put the directory>/02456_deeplearning_cgmforecast/'"
   ]
  },
  {
   "cell_type": "code",
   "execution_count": null,
   "metadata": {
    "id": "QvFIiBIpDv9N"
   },
   "outputs": [],
   "source": [
    "!pip install -r req.txt"
   ]
  },
  {
   "cell_type": "code",
   "execution_count": null,
   "metadata": {
    "id": "m-CvyYtWDv9R"
   },
   "outputs": [],
   "source": [
    "!python evaluateAll.py"
   ]
  }
 ],
 "metadata": {
  "accelerator": "GPU",
  "colab": {
   "collapsed_sections": [],
   "name": "Hedia___.ipynb",
   "provenance": []
  },
  "kernelspec": {
   "display_name": "Python 3",
   "language": "python",
   "name": "python3"
  },
  "language_info": {
   "codemirror_mode": {
    "name": "ipython",
    "version": 3
   },
   "file_extension": ".py",
   "mimetype": "text/x-python",
   "name": "python",
   "nbconvert_exporter": "python",
   "pygments_lexer": "ipython3",
   "version": "3.8.3"
  }
 },
 "nbformat": 4,
 "nbformat_minor": 1
}
