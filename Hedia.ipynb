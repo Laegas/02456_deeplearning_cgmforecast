{
  "nbformat": 4,
  "nbformat_minor": 0,
  "metadata": {
    "accelerator": "GPU",
    "colab": {
      "name": "Hedia___.ipynb",
      "provenance": [],
      "collapsed_sections": []
    },
    "kernelspec": {
      "display_name": "Python 3",
      "language": "python",
      "name": "python3"
    },
    "language_info": {
      "codemirror_mode": {
        "name": "ipython",
        "version": 3
      },
      "file_extension": ".py",
      "mimetype": "text/x-python",
      "name": "python",
      "nbconvert_exporter": "python",
      "pygments_lexer": "ipython3",
      "version": "3.7.9"
    }
  },
  "cells": [
    {
      "cell_type": "markdown",
      "metadata": {
        "id": "b958bfh2Dx5Y"
      },
      "source": [
        "Refer to the `Readme.MD` file for steps to run and additional notes."
      ]
    },
    {
      "cell_type": "code",
      "metadata": {
        "id": "QvFIiBIpDv9N"
      },
      "source": [
        "!pip install -r req.txt"
      ],
      "execution_count": null,
      "outputs": []
    },
    {
      "cell_type": "code",
      "metadata": {
        "id": "m-CvyYtWDv9R"
      },
      "source": [
        "!python evaluateAll.py"
      ],
      "execution_count": null,
      "outputs": []
    }
  ]
}